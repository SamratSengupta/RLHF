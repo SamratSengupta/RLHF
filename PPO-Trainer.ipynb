{
 "cells": [
  {
   "cell_type": "code",
   "execution_count": null,
   "id": "f9389c74",
   "metadata": {},
   "outputs": [],
   "source": [
    "!pip install transformers datasets peft trl torch"
   ]
  },
  {
   "cell_type": "code",
   "execution_count": null,
   "id": "79313ef8",
   "metadata": {},
   "outputs": [],
   "source": [
    "from transformers import GPT2Tokenizer, GPT2LMHeadModel, BertForSequenceClassification, BertTokenizer\n",
    "from peft import get_peft_model\n",
    "import torch\n",
    "\n",
    "# Load the pre-trained baby LLM (e.g., GPT-2)\n",
    "tokenizer = GPT2Tokenizer.from_pretrained(\"path_to_your_peft_baby_llm_tokenizer\")\n",
    "baby_llm = GPT2LMHeadModel.from_pretrained(\"path_to_your_peft_baby_llm_model\")\n",
    "\n",
    "# Load the pre-trained reward model\n",
    "reward_model = BertForSequenceClassification.from_pretrained(\"path_to_your_reward_model\")\n",
    "tokenizer_reward = BertTokenizer.from_pretrained(\"bert-base-uncased\")\n"
   ]
  },
  {
   "cell_type": "code",
   "execution_count": null,
   "id": "a0b0dfb0",
   "metadata": {},
   "outputs": [],
   "source": [
    "from datasets import Dataset\n",
    "\n",
    "# Example data\n",
    "data = [\n",
    "    {\"context\": \"Context 1\", \"question\": \"Question 1\"},\n",
    "    {\"context\": \"Context 2\", \"question\": \"Question 2\"},\n",
    "    # Add more examples...\n",
    "]\n",
    "\n",
    "dataset = Dataset.from_list(data)\n",
    "\n",
    "def tokenize_function(examples):\n",
    "    return tokenizer(\n",
    "        examples[\"question\"], \n",
    "        truncation=True, \n",
    "        padding=\"max_length\",\n",
    "        return_tensors=\"pt\"\n",
    "    )\n",
    "\n",
    "tokenized_dataset = dataset.map(tokenize_function, batched=True)\n",
    "\n"
   ]
  },
  {
   "cell_type": "code",
   "execution_count": null,
   "id": "af101868",
   "metadata": {},
   "outputs": [],
   "source": [
    "from trl import PPOTrainer, PPOConfig\n",
    "\n",
    "# Define PPO configuration\n",
    "ppo_config = PPOConfig(\n",
    "    batch_size=16,\n",
    "    learning_rate=1.41e-5,\n",
    "    log_with=\"tensorboard\"\n",
    ")\n"
   ]
  },
  {
   "cell_type": "code",
   "execution_count": null,
   "id": "63645f01",
   "metadata": {},
   "outputs": [],
   "source": [
    "# Initialize PPO Trainer\n",
    "ppo_trainer = PPOTrainer(model=baby_llm, config=ppo_config, tokenizer=tokenizer)\n"
   ]
  },
  {
   "cell_type": "code",
   "execution_count": null,
   "id": "57d4f686",
   "metadata": {},
   "outputs": [],
   "source": [
    "def generate_and_evaluate(batch):\n",
    "    inputs = tokenizer(batch[\"question\"], return_tensors=\"pt\", padding=True, truncation=True)\n",
    "    outputs = baby_llm.generate(inputs[\"input_ids\"], max_length=100)\n",
    "    generated_texts = tokenizer.batch_decode(outputs, skip_special_tokens=True)\n",
    "    rewards = []\n",
    "\n",
    "    for i, text in enumerate(generated_texts):\n",
    "        context_question =  batch[\"question\"][i]\n",
    "        reward_input = tokenizer_reward(context_question, text, return_tensors=\"pt\", truncation=True, padding=True)\n",
    "        with torch.no_grad():\n",
    "            score = reward_model(**reward_input).logits.squeeze().item()\n",
    "        rewards.append(score)\n",
    "\n",
    "    return generated_texts, rewards\n"
   ]
  },
  {
   "cell_type": "code",
   "execution_count": null,
   "id": "f37ddc08",
   "metadata": {},
   "outputs": [],
   "source": [
    "sample_batch = {   \n",
    "    \"question\": [\"Question 1\", \"Question 2\"]\n",
    "}\n"
   ]
  },
  {
   "cell_type": "code",
   "execution_count": null,
   "id": "c89f961b",
   "metadata": {},
   "outputs": [],
   "source": [
    "for epoch in range(ppo_config.total_epochs):\n",
    "    for _ in range(len(tokenized_dataset) // ppo_config.batch_size):\n",
    "        generated_texts, rewards = generate_and_evaluate(sample_batch)\n",
    "        ppo_trainer.step(sample_batch[\"question\"], generated_texts, rewards)\n"
   ]
  }
 ],
 "metadata": {
  "kernelspec": {
   "display_name": "Python 3",
   "language": "python",
   "name": "python3"
  },
  "language_info": {
   "codemirror_mode": {
    "name": "ipython",
    "version": 3
   },
   "file_extension": ".py",
   "mimetype": "text/x-python",
   "name": "python",
   "nbconvert_exporter": "python",
   "pygments_lexer": "ipython3",
   "version": "3.7.6"
  }
 },
 "nbformat": 4,
 "nbformat_minor": 5
}
