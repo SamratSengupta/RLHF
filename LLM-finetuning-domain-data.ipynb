{
 "cells": [
  {
   "cell_type": "code",
   "execution_count": null,
   "id": "5a167d92",
   "metadata": {},
   "outputs": [],
   "source": [
    "!pip install transformers datasets peft torch\n"
   ]
  },
  {
   "cell_type": "markdown",
   "id": "b346e282",
   "metadata": {},
   "source": [
    "#### Load the Baby LLM (BioBERT)"
   ]
  },
  {
   "cell_type": "code",
   "execution_count": null,
   "id": "f602bd75",
   "metadata": {},
   "outputs": [],
   "source": [
    "from transformers import BertTokenizer, BertForQuestionAnswering\n",
    "from peft import LoraConfig, get_peft_model\n",
    "\n",
    "# Load BioBERT tokenizer and model\n",
    "tokenizer = BertTokenizer.from_pretrained(\"dmis-lab/biobert-base-cased-v1.1\")\n",
    "model = BertForQuestionAnswering.from_pretrained(\"dmis-lab/biobert-base-cased-v1.1\")\n",
    "\n",
    "# Check model architecture\n",
    "model.config\n"
   ]
  },
  {
   "cell_type": "markdown",
   "id": "b547731f",
   "metadata": {},
   "source": [
    "#### Define PEFT config"
   ]
  },
  {
   "cell_type": "code",
   "execution_count": null,
   "id": "f9214f92",
   "metadata": {},
   "outputs": [],
   "source": [
    "# Define LoRA configuration\n",
    "lora_config = LoraConfig(\n",
    "    r=8,  # Dimension of the low-rank adaptation\n",
    "    lora_alpha=32,  # Scaling factor\n",
    "    lora_dropout=0.1,  # Dropout probability for LoRA layers\n",
    "    lora_mode=\"question-answering\"  # Mode of operation for QA\n",
    ")\n",
    "\n",
    "# Apply LoRA to the model\n",
    "peft_model = get_peft_model(model, lora_config)\n"
   ]
  },
  {
   "cell_type": "markdown",
   "id": "87d25f28",
   "metadata": {},
   "source": [
    "#### Dataset preparation"
   ]
  },
  {
   "cell_type": "code",
   "execution_count": null,
   "id": "4ee2bb03",
   "metadata": {},
   "outputs": [],
   "source": [
    "from datasets import Dataset\n",
    "\n",
    "# Example data with scores\n",
    "data = [\n",
    "    {\"context\": \"Context 1\", \"question\": \"Question 1\", \"answer\": \"Answer 1\", \"score\": 1.0},\n",
    "    {\"context\": \"Context 1\", \"question\": \"Question 1\", \"answer\": \"Answer 2\", \"score\": 0.5},\n",
    "    # Add more examples...\n",
    "]\n",
    "\n",
    "dataset = Dataset.from_list(data)\n",
    "\n",
    "def tokenize_function(examples):\n",
    "    return tokenizer(\n",
    "        \n",
    "        examples[\"question\"], \n",
    "        truncation=True, \n",
    "        padding=\"max_length\", \n",
    "        return_tensors=\"pt\"\n",
    "    )\n",
    "\n",
    "tokenized_dataset = dataset.map(tokenize_function, batched=True)\n",
    "\n"
   ]
  },
  {
   "cell_type": "markdown",
   "id": "4ffb4913",
   "metadata": {},
   "source": [
    "#### Train the PEFT Model using SFTTrainer"
   ]
  },
  {
   "cell_type": "code",
   "execution_count": null,
   "id": "8cd6cbf4",
   "metadata": {},
   "outputs": [],
   "source": [
    "from transformers import TrainingArguments, Trainer\n",
    "\n",
    "training_args = TrainingArguments(\n",
    "    output_dir=\"./results\",\n",
    "    evaluation_strategy=\"epoch\",\n",
    "    learning_rate=2e-5,\n",
    "    per_device_train_batch_size=4,\n",
    "    per_device_eval_batch_size=4,\n",
    "    num_train_epochs=3,\n",
    "    weight_decay=0.01,\n",
    ")\n",
    "\n",
    "trainer = Trainer(\n",
    "    model=peft_model,\n",
    "    args=training_args,\n",
    "    train_dataset=tokenized_dataset,\n",
    "    eval_dataset=tokenized_dataset,\n",
    ")\n",
    "\n",
    "trainer.train()\n"
   ]
  },
  {
   "cell_type": "markdown",
   "id": "0e169aaf",
   "metadata": {},
   "source": [
    "#### Prepare eval data"
   ]
  },
  {
   "cell_type": "code",
   "execution_count": null,
   "id": "6b285bad",
   "metadata": {},
   "outputs": [],
   "source": [
    "# Example evaluation data\n",
    "eval_data = [\n",
    "    {\"context\": \"Context 1\", \"question\": \"Question 1\", \"answer\": \"Correct Answer 1\"},\n",
    "    {\"context\": \"Context 2\", \"question\": \"Question 2\", \"answer\": \"Correct Answer 2\"},\n",
    "    # Add more examples...\n",
    "]\n",
    "\n",
    "eval_dataset = Dataset.from_list(eval_data)\n",
    "\n",
    "# Tokenize the dataset\n",
    "def tokenize_eval_function(examples):\n",
    "    return tokenizer(\n",
    "       \n",
    "        examples[\"question\"], \n",
    "        truncation=True, \n",
    "        padding=\"max_length\", \n",
    "        return_tensors=\"pt\"\n",
    "    )\n",
    "\n",
    "tokenized_eval_dataset = eval_dataset.map(tokenize_eval_function, batched=True)\n"
   ]
  },
  {
   "cell_type": "markdown",
   "id": "c09ca862",
   "metadata": {},
   "source": [
    "#### Define eval metrices"
   ]
  },
  {
   "cell_type": "code",
   "execution_count": null,
   "id": "2044bbaa",
   "metadata": {},
   "outputs": [],
   "source": [
    "from sklearn.metrics import f1_score, accuracy_score\n",
    "\n",
    "def compute_metrics(predictions, references):\n",
    "    exact_matches = sum([1 if p == r else 0 for p, r in zip(predictions, references)])\n",
    "    em_score = exact_matches / len(predictions)\n",
    "    \n",
    "    f1 = f1_score(references, predictions, average='weighted')\n",
    "    \n",
    "    return {\"exact_match\": em_score, \"f1\": f1}\n"
   ]
  },
  {
   "cell_type": "markdown",
   "id": "34455241",
   "metadata": {},
   "source": [
    "#### Evaluator function"
   ]
  },
  {
   "cell_type": "code",
   "execution_count": null,
   "id": "25ce678f",
   "metadata": {},
   "outputs": [],
   "source": [
    "import torch\n",
    "\n",
    "def evaluate_model(model, eval_dataset, tokenizer):\n",
    "    model.eval()\n",
    "    predictions = []\n",
    "    references = []\n",
    "\n",
    "    for example in eval_dataset:\n",
    "        inputs = tokenizer(           \n",
    "            example['question'],\n",
    "            truncation=True,\n",
    "            padding=True,\n",
    "            return_tensors=\"pt\"\n",
    "        )\n",
    "\n",
    "        with torch.no_grad():\n",
    "            outputs = model(**inputs)\n",
    "            answer_start = torch.argmax(outputs.start_logits)\n",
    "            answer_end = torch.argmax(outputs.end_logits) + 1\n",
    "            predicted_answer = tokenizer.convert_tokens_to_string(\n",
    "                tokenizer.convert_ids_to_tokens(inputs['input_ids'][0][answer_start:answer_end])\n",
    "            )\n",
    "        \n",
    "        predictions.append(predicted_answer)\n",
    "        references.append(example['answer'])\n",
    "    \n",
    "    return compute_metrics(predictions, references)\n",
    "\n"
   ]
  },
  {
   "cell_type": "markdown",
   "id": "876298f1",
   "metadata": {},
   "source": [
    "#### Evaluate the model"
   ]
  },
  {
   "cell_type": "code",
   "execution_count": null,
   "id": "cf88b733",
   "metadata": {},
   "outputs": [],
   "source": [
    "\n",
    "metrics = evaluate_model(peft_model, tokenized_eval_dataset, tokenizer)\n",
    "print(\"Evaluation Metrics:\", metrics)\n"
   ]
  },
  {
   "cell_type": "code",
   "execution_count": null,
   "id": "e0cc5742",
   "metadata": {},
   "outputs": [],
   "source": []
  }
 ],
 "metadata": {
  "kernelspec": {
   "display_name": "Python 3",
   "language": "python",
   "name": "python3"
  },
  "language_info": {
   "codemirror_mode": {
    "name": "ipython",
    "version": 3
   },
   "file_extension": ".py",
   "mimetype": "text/x-python",
   "name": "python",
   "nbconvert_exporter": "python",
   "pygments_lexer": "ipython3",
   "version": "3.7.6"
  }
 },
 "nbformat": 4,
 "nbformat_minor": 5
}
