{
 "cells": [
  {
   "cell_type": "markdown",
   "id": "5fd41c38",
   "metadata": {},
   "source": [
    "#### Load and Tokenize the Dataset"
   ]
  },
  {
   "cell_type": "code",
   "execution_count": null,
   "id": "2687917f",
   "metadata": {},
   "outputs": [],
   "source": [
    "from datasets import Dataset\n",
    "from transformers import BertTokenizer\n",
    "\n",
    "# Example data with scores\n",
    "# data = [\n",
    "#     {\"context\": \"Context 1\", \"question\": \"Question 1\", \"answer\": \"Correct Answer 1\", \"score\": 1.0},\n",
    "#     {\"context\": \"Context 1\", \"question\": \"Question 1\", \"answer\": \"Partially correct Answer 1\", \"score\": 0.5},\n",
    "#     {\"context\": \"Context 1\", \"question\": \"Question 1\", \"answer\": \"Incorrect Answer 1\", \"score\": 0.0},\n",
    "#     # Add more examples...\n",
    "# ]\n",
    "\n",
    "dataset = Dataset.from_list(data)\n",
    "\n",
    "tokenizer = BertTokenizer.from_pretrained(\"bert-base-uncased\")\n",
    "\n",
    "def tokenize_function(examples):\n",
    "    return tokenizer(\n",
    "        examples[\"question\"], \n",
    "        examples[\"answer\"], \n",
    "        truncation=True, \n",
    "        padding=\"max_length\",\n",
    "        return_tensors=\"pt\"\n",
    "    )\n",
    "\n",
    "tokenized_dataset = dataset.map(tokenize_function, batched=True)\n"
   ]
  },
  {
   "cell_type": "markdown",
   "id": "6202998d",
   "metadata": {},
   "source": [
    "#### Reward model Training "
   ]
  },
  {
   "cell_type": "code",
   "execution_count": null,
   "id": "65623aa8",
   "metadata": {},
   "outputs": [],
   "source": [
    "import torch\n",
    "from transformers import BertForSequenceClassification, Trainer, TrainingArguments\n",
    "\n",
    "# Define the reward model\n",
    "class RewardModel(BertForSequenceClassification):\n",
    "    def __init__(self, config):\n",
    "        super().__init__(config)\n",
    "        self.classifier = torch.nn.Linear(config.hidden_size, 1)  # Regression output\n",
    "\n",
    "reward_model = RewardModel.from_pretrained(\"bert-base-uncased\")\n",
    "reward_model.num_labels = 1\n",
    "reward_model.config.problem_type = \"regression\"\n",
    "\n",
    "# Training arguments\n",
    "training_args = TrainingArguments(\n",
    "    output_dir=\"./reward_model\",\n",
    "    evaluation_strategy=\"epoch\",\n",
    "    learning_rate=2e-5,\n",
    "    per_device_train_batch_size=4,\n",
    "    per_device_eval_batch_size=4,\n",
    "    num_train_epochs=3,\n",
    "    weight_decay=0.01,\n",
    "    logging_dir=\"./logs\",\n",
    ")\n",
    "\n",
    "trainer = Trainer(\n",
    "    model=reward_model,\n",
    "    args=training_args,\n",
    "    train_dataset=tokenized_dataset,\n",
    "    eval_dataset=tokenized_dataset,\n",
    ")\n",
    "\n",
    "# Train the reward model\n",
    "trainer.train()\n"
   ]
  },
  {
   "cell_type": "markdown",
   "id": "29dd6f9c",
   "metadata": {},
   "source": [
    "####  Evaluate the Reward Model"
   ]
  },
  {
   "cell_type": "code",
   "execution_count": null,
   "id": "7c10a604",
   "metadata": {},
   "outputs": [],
   "source": [
    "def evaluate_reward_model(model, eval_dataset):\n",
    "    model.eval()\n",
    "    predictions = []\n",
    "    references = []\n",
    "\n",
    "    for example in eval_dataset:\n",
    "        inputs = tokenizer(\n",
    "            example['question'],\n",
    "            example['answer'],\n",
    "            truncation=True,\n",
    "            padding=\"max_length\",\n",
    "            return_tensors=\"pt\"\n",
    "        )\n",
    "\n",
    "        with torch.no_grad():\n",
    "            outputs = model(**inputs)\n",
    "            predicted_score = outputs.logits.squeeze().item()\n",
    "        \n",
    "        predictions.append(predicted_score)\n",
    "        references.append(example['score'])\n",
    "    \n",
    "    return compute_metrics(predictions, references)\n",
    "\n",
    "# Compute metrics\n",
    "from sklearn.metrics import mean_squared_error, r2_score\n",
    "\n",
    "def compute_metrics(predictions, references):\n",
    "    mse = mean_squared_error(references, predictions)\n",
    "    r2 = r2_score(references, predictions)\n",
    "    return {\"mse\": mse, \"r2\": r2}\n",
    "\n",
    "# Evaluate the model\n",
    "metrics = evaluate_reward_model(reward_model, tokenized_dataset)\n",
    "print(\"Evaluation Metrics:\", metrics)\n"
   ]
  },
  {
   "cell_type": "code",
   "execution_count": 2,
   "id": "114e10d6",
   "metadata": {},
   "outputs": [],
   "source": [
    "# Data Preparation: Ensure your dataset includes context, question, answer, and scores.\n",
    "# Load and Tokenize Dataset: Use transformers and datasets libraries to prepare the dataset.\n",
    "# Define Reward Model: Use a BERT model for sequence regression to predict the scores.\n",
    "# Train the Model: Use Trainer from transformers to fine-tune the reward model.\n",
    "# Evaluate the Model: Compute metrics like MSE and R2 to evaluate the model's performance.\n",
    "# Using the same dataset for both the reward model and the baby LLM is feasible given the constraints. \n",
    "# It ensures consistency and makes the most of the limited data available. \n",
    "# Adjusting hyperparameters and possibly augmenting the dataset with additional examples, \n",
    "# if possible, can help improve the model's performance."
   ]
  },
  {
   "cell_type": "code",
   "execution_count": null,
   "id": "3a806cd4",
   "metadata": {},
   "outputs": [],
   "source": []
  }
 ],
 "metadata": {
  "kernelspec": {
   "display_name": "Python 3",
   "language": "python",
   "name": "python3"
  },
  "language_info": {
   "codemirror_mode": {
    "name": "ipython",
    "version": 3
   },
   "file_extension": ".py",
   "mimetype": "text/x-python",
   "name": "python",
   "nbconvert_exporter": "python",
   "pygments_lexer": "ipython3",
   "version": "3.7.6"
  }
 },
 "nbformat": 4,
 "nbformat_minor": 5
}
