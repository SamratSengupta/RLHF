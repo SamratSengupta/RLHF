{
 "cells": [
  {
   "cell_type": "code",
   "execution_count": null,
   "id": "3b4767bd",
   "metadata": {},
   "outputs": [],
   "source": [
    "!pip install PyMuPDF openai\n"
   ]
  },
  {
   "cell_type": "code",
   "execution_count": null,
   "id": "4adeb326",
   "metadata": {},
   "outputs": [],
   "source": [
    "import fitz  # PyMuPDF\n",
    "import openai\n",
    "import random"
   ]
  },
  {
   "cell_type": "code",
   "execution_count": null,
   "id": "158cc691",
   "metadata": {},
   "outputs": [],
   "source": [
    "def convert_pdf_to_text(pdf_path):\n",
    "    doc = fitz.open(pdf_path)\n",
    "    text = \"\"\n",
    "    for page in doc:\n",
    "        text += page.get_text()\n",
    "    return text\n",
    "\n",
    "# Function to generate QA pairs using GPT-4\n",
    "def generate_qa_pairs(context, prompt):\n",
    "    response = openai.Completion.create(\n",
    "        engine=\"gpt-4\",\n",
    "        prompt=prompt.format(context=context),\n",
    "        max_tokens=150,\n",
    "        n=1,\n",
    "        stop=None,\n",
    "        temperature=0.7\n",
    "    )\n",
    "    return response.choices[0].text.strip()\n",
    "\n",
    "# Function to create prompts for GPT-4\n",
    "def create_prompts(context):\n",
    "    unique_prompt = \"Generate a unique question-answer pair based on the following context:\\n\\nContext: {context}\\n\\nQ: \"\n",
    "    repeated_prompt = \"Generate different answers for the same question based on the following context:\\n\\nContext: {context}\\n\\nQ: \"\n",
    "    return unique_prompt, repeated_prompt\n",
    "\n"
   ]
  },
  {
   "cell_type": "code",
   "execution_count": null,
   "id": "8754140a",
   "metadata": {},
   "outputs": [],
   "source": [
    "# Generate QA pairs from PDF\n",
    "def generate_qa_pairs_from_pdf(pdf_path, total_pairs, repeated_pairs, unique_pairs):\n",
    "    text = convert_pdf_to_text(pdf_path)\n",
    "    context_samples = text.split('\\n\\n')  # Simple split, can be refined\n",
    "    \n",
    "    # Ensure enough context samples\n",
    "    if len(context_samples) < total_pairs:\n",
    "        raise ValueError(\"Not enough context samples in the provided PDF.\")\n",
    "    \n",
    "    qa_pairs = []\n",
    "    used_contexts = random.sample(context_samples, repeated_pairs + unique_pairs)\n",
    "    \n",
    "    for i in range(unique_pairs):\n",
    "        context = used_contexts[i]\n",
    "        unique_prompt, _ = create_prompts(context)\n",
    "        qa_pair = generate_qa_pairs(context, unique_prompt)\n",
    "        qa_pairs.append({\"context\": context, \"qa_pair\": qa_pair, \"type\": \"unique\"})\n",
    "    \n",
    "    for i in range(repeated_pairs):\n",
    "        context = used_contexts[unique_pairs + i]\n",
    "        _, repeated_prompt = create_prompts(context)\n",
    "        base_qa_pair = generate_qa_pairs(context, repeated_prompt)\n",
    "        for j in range(2):  # Generate two different answers for the same question\n",
    "            different_answer = generate_qa_pairs(context, repeated_prompt + base_qa_pair + \"\\nA: \")\n",
    "            qa_pairs.append({\"context\": context, \"qa_pair\": base_qa_pair + \"\\nA: \" + different_answer, \"type\": \"repeated\"})\n",
    "    \n",
    "    return qa_pairs\n"
   ]
  },
  {
   "cell_type": "code",
   "execution_count": null,
   "id": "d4ebfc44",
   "metadata": {},
   "outputs": [],
   "source": [
    "# Example usage\n",
    "pdf_path = \"data/defining nursing_2003.pdf\"\n",
    "total_pairs = 500\n",
    "repeated_pairs = 125\n",
    "unique_pairs = 125\n",
    "\n",
    "qa_pairs = generate_qa_pairs_from_pdf(pdf_path, total_pairs, repeated_pairs, unique_pairs)\n",
    "\n"
   ]
  },
  {
   "cell_type": "code",
   "execution_count": null,
   "id": "b3bc568e",
   "metadata": {},
   "outputs": [],
   "source": [
    "# Display some QA pairs\n",
    "for pair in qa_pairs[:10]:  # Display first 10 pairs\n",
    "    print(pair)"
   ]
  }
 ],
 "metadata": {
  "kernelspec": {
   "display_name": "Python 3",
   "language": "python",
   "name": "python3"
  },
  "language_info": {
   "codemirror_mode": {
    "name": "ipython",
    "version": 3
   },
   "file_extension": ".py",
   "mimetype": "text/x-python",
   "name": "python",
   "nbconvert_exporter": "python",
   "pygments_lexer": "ipython3",
   "version": "3.7.6"
  }
 },
 "nbformat": 4,
 "nbformat_minor": 5
}
